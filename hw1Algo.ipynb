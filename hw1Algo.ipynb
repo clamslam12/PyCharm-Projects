{
 "cells": [
  {
   "cell_type": "code",
   "execution_count": 20,
   "metadata": {},
   "outputs": [
    {
     "name": "stdout",
     "output_type": "stream",
     "text": [
      "Hello CSCI 3412 !!\n",
      "Num -10 100\n",
      "Num -8 64\n",
      "Num -6 36\n",
      "Num -4 16\n",
      "Num -2 4\n",
      "Num 0 0\n",
      "Num 2 4\n",
      "Num 4 16\n",
      "Num 6 36\n",
      "Num 8 64\n",
      "Num 10 100\n"
     ]
    }
   ],
   "source": [
    "print(\"Hello CSCI 3412 !!\")\n",
    "i = -10\n",
    "while True:\n",
    "    j = pow(i, 2)\n",
    "    if i > 10 and j > 100:\n",
    "        break\n",
    "    print(\"Num \"+ str(i) + \" \"+ str(j))\n",
    "    i+=2"
   ]
  },
  {
   "cell_type": "code",
   "execution_count": 2,
   "metadata": {},
   "outputs": [
    {
     "name": "stdout",
     "output_type": "stream",
     "text": [
      "1\n",
      "2\n",
      "3\n",
      "4\n",
      "5\n",
      "5\n",
      "7.953\n"
     ]
    }
   ],
   "source": [
    "for x in range(1,6):\n",
    "    y = 7.953\n",
    "    print(x)\n",
    "\n",
    "print(x)\n",
    "print(y)\n",
    "\n",
    "        \n",
    "    \n",
    "    "
   ]
  },
  {
   "cell_type": "code",
   "execution_count": null,
   "metadata": {},
   "outputs": [],
   "source": []
  },
  {
   "cell_type": "code",
   "execution_count": null,
   "metadata": {},
   "outputs": [],
   "source": []
  }
 ],
 "metadata": {
  "@webio": {
   "lastCommId": null,
   "lastKernelId": null
  },
  "kernelspec": {
   "display_name": "Python 3",
   "language": "python",
   "name": "python3"
  },
  "language_info": {
   "codemirror_mode": {
    "name": "ipython",
    "version": 3
   },
   "file_extension": ".py",
   "mimetype": "text/x-python",
   "name": "python",
   "nbconvert_exporter": "python",
   "pygments_lexer": "ipython3",
   "version": "3.7.3"
  }
 },
 "nbformat": 4,
 "nbformat_minor": 2
}
