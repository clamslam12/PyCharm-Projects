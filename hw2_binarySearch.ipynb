{
 "cells": [
  {
   "cell_type": "code",
   "execution_count": null,
   "metadata": {},
   "outputs": [],
   "source": [
    "nArr = [i for i in range(1,1001)]\n",
    "\n",
    "#binary search, recursively\n",
    "def binarySearchCustom(arr, l, r, x):\n",
    "    if l <= r:\n",
    "        mid = l + (r - l)/2\n",
    "        print(\"computer says: {}\".format(arr[int(mid)]))\n",
    "        result = input(\"Type 'l' if larger, 's' if smaller, 'c' if correct: \")\n",
    "        if result == 'c':\n",
    "            return \"Done! Your number is {}\".format(arr[mid])\n",
    "        elif result == 's':\n",
    "            return binarySearchCustom(arr, l, mid - 1, x)\n",
    "        else:\n",
    "            return binarySearchCustom(arr, mid + 1, r, x)\n",
    "    else:\n",
    "        return -1\n",
    "\n",
    "x = int(input(\"enter a number between 1 and 1000: \"))\n",
    "binarySearchCustom(nArr,0, len(nArr)-1, x)\n",
    "    \n",
    "            \n"
   ]
  },
  {
   "cell_type": "code",
   "execution_count": null,
   "metadata": {},
   "outputs": [],
   "source": []
  },
  {
   "cell_type": "code",
   "execution_count": null,
   "metadata": {},
   "outputs": [],
   "source": []
  }
 ],
 "metadata": {
  "kernelspec": {
   "display_name": "Python 3",
   "language": "python",
   "name": "python3"
  },
  "language_info": {
   "codemirror_mode": {
    "name": "ipython",
    "version": 3
   },
   "file_extension": ".py",
   "mimetype": "text/x-python",
   "name": "python",
   "nbconvert_exporter": "python",
   "pygments_lexer": "ipython3",
   "version": "3.7.3"
  }
 },
 "nbformat": 4,
 "nbformat_minor": 2
}
